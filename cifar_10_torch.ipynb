{
  "nbformat": 4,
  "nbformat_minor": 0,
  "metadata": {
    "colab": {
      "name": "cifar-10-torch.ipynb",
      "provenance": [],
      "collapsed_sections": [],
      "authorship_tag": "ABX9TyPKUfOdy+x6eraZCqWObRRR",
      "include_colab_link": true
    },
    "kernelspec": {
      "name": "python3",
      "display_name": "Python 3"
    },
    "widgets": {
      "application/vnd.jupyter.widget-state+json": {
        "3ffff199040b466f97501d31b0aa850d": {
          "model_module": "@jupyter-widgets/controls",
          "model_name": "HBoxModel",
          "state": {
            "_view_name": "HBoxView",
            "_dom_classes": [],
            "_model_name": "HBoxModel",
            "_view_module": "@jupyter-widgets/controls",
            "_model_module_version": "1.5.0",
            "_view_count": null,
            "_view_module_version": "1.5.0",
            "box_style": "",
            "layout": "IPY_MODEL_f5912c11ab0a4fa4a96d7e2bb0215ef2",
            "_model_module": "@jupyter-widgets/controls",
            "children": [
              "IPY_MODEL_500c1a21c7ad4f8e90df8249a7a33ba3",
              "IPY_MODEL_7578c64827ce4b5a8fae01afa5385ef9"
            ]
          }
        },
        "f5912c11ab0a4fa4a96d7e2bb0215ef2": {
          "model_module": "@jupyter-widgets/base",
          "model_name": "LayoutModel",
          "state": {
            "_view_name": "LayoutView",
            "grid_template_rows": null,
            "right": null,
            "justify_content": null,
            "_view_module": "@jupyter-widgets/base",
            "overflow": null,
            "_model_module_version": "1.2.0",
            "_view_count": null,
            "flex_flow": null,
            "width": null,
            "min_width": null,
            "border": null,
            "align_items": null,
            "bottom": null,
            "_model_module": "@jupyter-widgets/base",
            "top": null,
            "grid_column": null,
            "overflow_y": null,
            "overflow_x": null,
            "grid_auto_flow": null,
            "grid_area": null,
            "grid_template_columns": null,
            "flex": null,
            "_model_name": "LayoutModel",
            "justify_items": null,
            "grid_row": null,
            "max_height": null,
            "align_content": null,
            "visibility": null,
            "align_self": null,
            "height": null,
            "min_height": null,
            "padding": null,
            "grid_auto_rows": null,
            "grid_gap": null,
            "max_width": null,
            "order": null,
            "_view_module_version": "1.2.0",
            "grid_template_areas": null,
            "object_position": null,
            "object_fit": null,
            "grid_auto_columns": null,
            "margin": null,
            "display": null,
            "left": null
          }
        },
        "500c1a21c7ad4f8e90df8249a7a33ba3": {
          "model_module": "@jupyter-widgets/controls",
          "model_name": "FloatProgressModel",
          "state": {
            "_view_name": "ProgressView",
            "style": "IPY_MODEL_20d2b789fcd04a3b841c56daed0eab44",
            "_dom_classes": [],
            "description": "",
            "_model_name": "FloatProgressModel",
            "bar_style": "success",
            "max": 1,
            "_view_module": "@jupyter-widgets/controls",
            "_model_module_version": "1.5.0",
            "value": 1,
            "_view_count": null,
            "_view_module_version": "1.5.0",
            "orientation": "horizontal",
            "min": 0,
            "description_tooltip": null,
            "_model_module": "@jupyter-widgets/controls",
            "layout": "IPY_MODEL_499f596be3874cebb03eb71dbf570f2d"
          }
        },
        "7578c64827ce4b5a8fae01afa5385ef9": {
          "model_module": "@jupyter-widgets/controls",
          "model_name": "HTMLModel",
          "state": {
            "_view_name": "HTMLView",
            "style": "IPY_MODEL_63b593b683f34a378ada6a0ad78787e0",
            "_dom_classes": [],
            "description": "",
            "_model_name": "HTMLModel",
            "placeholder": "​",
            "_view_module": "@jupyter-widgets/controls",
            "_model_module_version": "1.5.0",
            "value": " 9920512/? [00:01&lt;00:00, 5573499.11it/s]",
            "_view_count": null,
            "_view_module_version": "1.5.0",
            "description_tooltip": null,
            "_model_module": "@jupyter-widgets/controls",
            "layout": "IPY_MODEL_e37218742d494d3782db4adf33464451"
          }
        },
        "20d2b789fcd04a3b841c56daed0eab44": {
          "model_module": "@jupyter-widgets/controls",
          "model_name": "ProgressStyleModel",
          "state": {
            "_view_name": "StyleView",
            "_model_name": "ProgressStyleModel",
            "description_width": "initial",
            "_view_module": "@jupyter-widgets/base",
            "_model_module_version": "1.5.0",
            "_view_count": null,
            "_view_module_version": "1.2.0",
            "bar_color": null,
            "_model_module": "@jupyter-widgets/controls"
          }
        },
        "499f596be3874cebb03eb71dbf570f2d": {
          "model_module": "@jupyter-widgets/base",
          "model_name": "LayoutModel",
          "state": {
            "_view_name": "LayoutView",
            "grid_template_rows": null,
            "right": null,
            "justify_content": null,
            "_view_module": "@jupyter-widgets/base",
            "overflow": null,
            "_model_module_version": "1.2.0",
            "_view_count": null,
            "flex_flow": null,
            "width": null,
            "min_width": null,
            "border": null,
            "align_items": null,
            "bottom": null,
            "_model_module": "@jupyter-widgets/base",
            "top": null,
            "grid_column": null,
            "overflow_y": null,
            "overflow_x": null,
            "grid_auto_flow": null,
            "grid_area": null,
            "grid_template_columns": null,
            "flex": null,
            "_model_name": "LayoutModel",
            "justify_items": null,
            "grid_row": null,
            "max_height": null,
            "align_content": null,
            "visibility": null,
            "align_self": null,
            "height": null,
            "min_height": null,
            "padding": null,
            "grid_auto_rows": null,
            "grid_gap": null,
            "max_width": null,
            "order": null,
            "_view_module_version": "1.2.0",
            "grid_template_areas": null,
            "object_position": null,
            "object_fit": null,
            "grid_auto_columns": null,
            "margin": null,
            "display": null,
            "left": null
          }
        },
        "63b593b683f34a378ada6a0ad78787e0": {
          "model_module": "@jupyter-widgets/controls",
          "model_name": "DescriptionStyleModel",
          "state": {
            "_view_name": "StyleView",
            "_model_name": "DescriptionStyleModel",
            "description_width": "",
            "_view_module": "@jupyter-widgets/base",
            "_model_module_version": "1.5.0",
            "_view_count": null,
            "_view_module_version": "1.2.0",
            "_model_module": "@jupyter-widgets/controls"
          }
        },
        "e37218742d494d3782db4adf33464451": {
          "model_module": "@jupyter-widgets/base",
          "model_name": "LayoutModel",
          "state": {
            "_view_name": "LayoutView",
            "grid_template_rows": null,
            "right": null,
            "justify_content": null,
            "_view_module": "@jupyter-widgets/base",
            "overflow": null,
            "_model_module_version": "1.2.0",
            "_view_count": null,
            "flex_flow": null,
            "width": null,
            "min_width": null,
            "border": null,
            "align_items": null,
            "bottom": null,
            "_model_module": "@jupyter-widgets/base",
            "top": null,
            "grid_column": null,
            "overflow_y": null,
            "overflow_x": null,
            "grid_auto_flow": null,
            "grid_area": null,
            "grid_template_columns": null,
            "flex": null,
            "_model_name": "LayoutModel",
            "justify_items": null,
            "grid_row": null,
            "max_height": null,
            "align_content": null,
            "visibility": null,
            "align_self": null,
            "height": null,
            "min_height": null,
            "padding": null,
            "grid_auto_rows": null,
            "grid_gap": null,
            "max_width": null,
            "order": null,
            "_view_module_version": "1.2.0",
            "grid_template_areas": null,
            "object_position": null,
            "object_fit": null,
            "grid_auto_columns": null,
            "margin": null,
            "display": null,
            "left": null
          }
        },
        "e2e935ddd401482699717af90a58dee6": {
          "model_module": "@jupyter-widgets/controls",
          "model_name": "HBoxModel",
          "state": {
            "_view_name": "HBoxView",
            "_dom_classes": [],
            "_model_name": "HBoxModel",
            "_view_module": "@jupyter-widgets/controls",
            "_model_module_version": "1.5.0",
            "_view_count": null,
            "_view_module_version": "1.5.0",
            "box_style": "",
            "layout": "IPY_MODEL_7f4107a667424809adb1ab2022e4452f",
            "_model_module": "@jupyter-widgets/controls",
            "children": [
              "IPY_MODEL_82214dedea4e4d5cb23c1a0455c61443",
              "IPY_MODEL_a358c67779254285bd0b39813ead8cf0"
            ]
          }
        },
        "7f4107a667424809adb1ab2022e4452f": {
          "model_module": "@jupyter-widgets/base",
          "model_name": "LayoutModel",
          "state": {
            "_view_name": "LayoutView",
            "grid_template_rows": null,
            "right": null,
            "justify_content": null,
            "_view_module": "@jupyter-widgets/base",
            "overflow": null,
            "_model_module_version": "1.2.0",
            "_view_count": null,
            "flex_flow": null,
            "width": null,
            "min_width": null,
            "border": null,
            "align_items": null,
            "bottom": null,
            "_model_module": "@jupyter-widgets/base",
            "top": null,
            "grid_column": null,
            "overflow_y": null,
            "overflow_x": null,
            "grid_auto_flow": null,
            "grid_area": null,
            "grid_template_columns": null,
            "flex": null,
            "_model_name": "LayoutModel",
            "justify_items": null,
            "grid_row": null,
            "max_height": null,
            "align_content": null,
            "visibility": null,
            "align_self": null,
            "height": null,
            "min_height": null,
            "padding": null,
            "grid_auto_rows": null,
            "grid_gap": null,
            "max_width": null,
            "order": null,
            "_view_module_version": "1.2.0",
            "grid_template_areas": null,
            "object_position": null,
            "object_fit": null,
            "grid_auto_columns": null,
            "margin": null,
            "display": null,
            "left": null
          }
        },
        "82214dedea4e4d5cb23c1a0455c61443": {
          "model_module": "@jupyter-widgets/controls",
          "model_name": "FloatProgressModel",
          "state": {
            "_view_name": "ProgressView",
            "style": "IPY_MODEL_42d1bad8221b4ed6a39a6b69e3d14d62",
            "_dom_classes": [],
            "description": "",
            "_model_name": "FloatProgressModel",
            "bar_style": "success",
            "max": 1,
            "_view_module": "@jupyter-widgets/controls",
            "_model_module_version": "1.5.0",
            "value": 1,
            "_view_count": null,
            "_view_module_version": "1.5.0",
            "orientation": "horizontal",
            "min": 0,
            "description_tooltip": null,
            "_model_module": "@jupyter-widgets/controls",
            "layout": "IPY_MODEL_d5cb5b337c4d492aa19a2037abd22bfb"
          }
        },
        "a358c67779254285bd0b39813ead8cf0": {
          "model_module": "@jupyter-widgets/controls",
          "model_name": "HTMLModel",
          "state": {
            "_view_name": "HTMLView",
            "style": "IPY_MODEL_85d973a9b14049d8bf629b7a1d0f8110",
            "_dom_classes": [],
            "description": "",
            "_model_name": "HTMLModel",
            "placeholder": "​",
            "_view_module": "@jupyter-widgets/controls",
            "_model_module_version": "1.5.0",
            "value": " 32768/? [00:01&lt;00:00, 31799.29it/s]",
            "_view_count": null,
            "_view_module_version": "1.5.0",
            "description_tooltip": null,
            "_model_module": "@jupyter-widgets/controls",
            "layout": "IPY_MODEL_86e014d779ab4fafa782032edfb3e83f"
          }
        },
        "42d1bad8221b4ed6a39a6b69e3d14d62": {
          "model_module": "@jupyter-widgets/controls",
          "model_name": "ProgressStyleModel",
          "state": {
            "_view_name": "StyleView",
            "_model_name": "ProgressStyleModel",
            "description_width": "initial",
            "_view_module": "@jupyter-widgets/base",
            "_model_module_version": "1.5.0",
            "_view_count": null,
            "_view_module_version": "1.2.0",
            "bar_color": null,
            "_model_module": "@jupyter-widgets/controls"
          }
        },
        "d5cb5b337c4d492aa19a2037abd22bfb": {
          "model_module": "@jupyter-widgets/base",
          "model_name": "LayoutModel",
          "state": {
            "_view_name": "LayoutView",
            "grid_template_rows": null,
            "right": null,
            "justify_content": null,
            "_view_module": "@jupyter-widgets/base",
            "overflow": null,
            "_model_module_version": "1.2.0",
            "_view_count": null,
            "flex_flow": null,
            "width": null,
            "min_width": null,
            "border": null,
            "align_items": null,
            "bottom": null,
            "_model_module": "@jupyter-widgets/base",
            "top": null,
            "grid_column": null,
            "overflow_y": null,
            "overflow_x": null,
            "grid_auto_flow": null,
            "grid_area": null,
            "grid_template_columns": null,
            "flex": null,
            "_model_name": "LayoutModel",
            "justify_items": null,
            "grid_row": null,
            "max_height": null,
            "align_content": null,
            "visibility": null,
            "align_self": null,
            "height": null,
            "min_height": null,
            "padding": null,
            "grid_auto_rows": null,
            "grid_gap": null,
            "max_width": null,
            "order": null,
            "_view_module_version": "1.2.0",
            "grid_template_areas": null,
            "object_position": null,
            "object_fit": null,
            "grid_auto_columns": null,
            "margin": null,
            "display": null,
            "left": null
          }
        },
        "85d973a9b14049d8bf629b7a1d0f8110": {
          "model_module": "@jupyter-widgets/controls",
          "model_name": "DescriptionStyleModel",
          "state": {
            "_view_name": "StyleView",
            "_model_name": "DescriptionStyleModel",
            "description_width": "",
            "_view_module": "@jupyter-widgets/base",
            "_model_module_version": "1.5.0",
            "_view_count": null,
            "_view_module_version": "1.2.0",
            "_model_module": "@jupyter-widgets/controls"
          }
        },
        "86e014d779ab4fafa782032edfb3e83f": {
          "model_module": "@jupyter-widgets/base",
          "model_name": "LayoutModel",
          "state": {
            "_view_name": "LayoutView",
            "grid_template_rows": null,
            "right": null,
            "justify_content": null,
            "_view_module": "@jupyter-widgets/base",
            "overflow": null,
            "_model_module_version": "1.2.0",
            "_view_count": null,
            "flex_flow": null,
            "width": null,
            "min_width": null,
            "border": null,
            "align_items": null,
            "bottom": null,
            "_model_module": "@jupyter-widgets/base",
            "top": null,
            "grid_column": null,
            "overflow_y": null,
            "overflow_x": null,
            "grid_auto_flow": null,
            "grid_area": null,
            "grid_template_columns": null,
            "flex": null,
            "_model_name": "LayoutModel",
            "justify_items": null,
            "grid_row": null,
            "max_height": null,
            "align_content": null,
            "visibility": null,
            "align_self": null,
            "height": null,
            "min_height": null,
            "padding": null,
            "grid_auto_rows": null,
            "grid_gap": null,
            "max_width": null,
            "order": null,
            "_view_module_version": "1.2.0",
            "grid_template_areas": null,
            "object_position": null,
            "object_fit": null,
            "grid_auto_columns": null,
            "margin": null,
            "display": null,
            "left": null
          }
        },
        "5b9cb20fd8014ff2b567bc84d2d90b8c": {
          "model_module": "@jupyter-widgets/controls",
          "model_name": "HBoxModel",
          "state": {
            "_view_name": "HBoxView",
            "_dom_classes": [],
            "_model_name": "HBoxModel",
            "_view_module": "@jupyter-widgets/controls",
            "_model_module_version": "1.5.0",
            "_view_count": null,
            "_view_module_version": "1.5.0",
            "box_style": "",
            "layout": "IPY_MODEL_99e0ae9cab6c4c94838099ed95bc89b4",
            "_model_module": "@jupyter-widgets/controls",
            "children": [
              "IPY_MODEL_eae77b8f5c6a4de28d93212bfcc0adaf",
              "IPY_MODEL_90865d5a6338418280532e1ce87b65e0"
            ]
          }
        },
        "99e0ae9cab6c4c94838099ed95bc89b4": {
          "model_module": "@jupyter-widgets/base",
          "model_name": "LayoutModel",
          "state": {
            "_view_name": "LayoutView",
            "grid_template_rows": null,
            "right": null,
            "justify_content": null,
            "_view_module": "@jupyter-widgets/base",
            "overflow": null,
            "_model_module_version": "1.2.0",
            "_view_count": null,
            "flex_flow": null,
            "width": null,
            "min_width": null,
            "border": null,
            "align_items": null,
            "bottom": null,
            "_model_module": "@jupyter-widgets/base",
            "top": null,
            "grid_column": null,
            "overflow_y": null,
            "overflow_x": null,
            "grid_auto_flow": null,
            "grid_area": null,
            "grid_template_columns": null,
            "flex": null,
            "_model_name": "LayoutModel",
            "justify_items": null,
            "grid_row": null,
            "max_height": null,
            "align_content": null,
            "visibility": null,
            "align_self": null,
            "height": null,
            "min_height": null,
            "padding": null,
            "grid_auto_rows": null,
            "grid_gap": null,
            "max_width": null,
            "order": null,
            "_view_module_version": "1.2.0",
            "grid_template_areas": null,
            "object_position": null,
            "object_fit": null,
            "grid_auto_columns": null,
            "margin": null,
            "display": null,
            "left": null
          }
        },
        "eae77b8f5c6a4de28d93212bfcc0adaf": {
          "model_module": "@jupyter-widgets/controls",
          "model_name": "FloatProgressModel",
          "state": {
            "_view_name": "ProgressView",
            "style": "IPY_MODEL_a57074e9124c4bb5a1ee3fbf94aeca11",
            "_dom_classes": [],
            "description": "",
            "_model_name": "FloatProgressModel",
            "bar_style": "success",
            "max": 1,
            "_view_module": "@jupyter-widgets/controls",
            "_model_module_version": "1.5.0",
            "value": 1,
            "_view_count": null,
            "_view_module_version": "1.5.0",
            "orientation": "horizontal",
            "min": 0,
            "description_tooltip": null,
            "_model_module": "@jupyter-widgets/controls",
            "layout": "IPY_MODEL_d886c25a897b4ff588f36e2a407365c3"
          }
        },
        "90865d5a6338418280532e1ce87b65e0": {
          "model_module": "@jupyter-widgets/controls",
          "model_name": "HTMLModel",
          "state": {
            "_view_name": "HTMLView",
            "style": "IPY_MODEL_07942297b74243a6960dfd229b7399b4",
            "_dom_classes": [],
            "description": "",
            "_model_name": "HTMLModel",
            "placeholder": "​",
            "_view_module": "@jupyter-widgets/controls",
            "_model_module_version": "1.5.0",
            "value": " 1654784/? [00:00&lt;00:00, 2416798.95it/s]",
            "_view_count": null,
            "_view_module_version": "1.5.0",
            "description_tooltip": null,
            "_model_module": "@jupyter-widgets/controls",
            "layout": "IPY_MODEL_ba97e38ae2ff4eaab0f769508e791b8c"
          }
        },
        "a57074e9124c4bb5a1ee3fbf94aeca11": {
          "model_module": "@jupyter-widgets/controls",
          "model_name": "ProgressStyleModel",
          "state": {
            "_view_name": "StyleView",
            "_model_name": "ProgressStyleModel",
            "description_width": "initial",
            "_view_module": "@jupyter-widgets/base",
            "_model_module_version": "1.5.0",
            "_view_count": null,
            "_view_module_version": "1.2.0",
            "bar_color": null,
            "_model_module": "@jupyter-widgets/controls"
          }
        },
        "d886c25a897b4ff588f36e2a407365c3": {
          "model_module": "@jupyter-widgets/base",
          "model_name": "LayoutModel",
          "state": {
            "_view_name": "LayoutView",
            "grid_template_rows": null,
            "right": null,
            "justify_content": null,
            "_view_module": "@jupyter-widgets/base",
            "overflow": null,
            "_model_module_version": "1.2.0",
            "_view_count": null,
            "flex_flow": null,
            "width": null,
            "min_width": null,
            "border": null,
            "align_items": null,
            "bottom": null,
            "_model_module": "@jupyter-widgets/base",
            "top": null,
            "grid_column": null,
            "overflow_y": null,
            "overflow_x": null,
            "grid_auto_flow": null,
            "grid_area": null,
            "grid_template_columns": null,
            "flex": null,
            "_model_name": "LayoutModel",
            "justify_items": null,
            "grid_row": null,
            "max_height": null,
            "align_content": null,
            "visibility": null,
            "align_self": null,
            "height": null,
            "min_height": null,
            "padding": null,
            "grid_auto_rows": null,
            "grid_gap": null,
            "max_width": null,
            "order": null,
            "_view_module_version": "1.2.0",
            "grid_template_areas": null,
            "object_position": null,
            "object_fit": null,
            "grid_auto_columns": null,
            "margin": null,
            "display": null,
            "left": null
          }
        },
        "07942297b74243a6960dfd229b7399b4": {
          "model_module": "@jupyter-widgets/controls",
          "model_name": "DescriptionStyleModel",
          "state": {
            "_view_name": "StyleView",
            "_model_name": "DescriptionStyleModel",
            "description_width": "",
            "_view_module": "@jupyter-widgets/base",
            "_model_module_version": "1.5.0",
            "_view_count": null,
            "_view_module_version": "1.2.0",
            "_model_module": "@jupyter-widgets/controls"
          }
        },
        "ba97e38ae2ff4eaab0f769508e791b8c": {
          "model_module": "@jupyter-widgets/base",
          "model_name": "LayoutModel",
          "state": {
            "_view_name": "LayoutView",
            "grid_template_rows": null,
            "right": null,
            "justify_content": null,
            "_view_module": "@jupyter-widgets/base",
            "overflow": null,
            "_model_module_version": "1.2.0",
            "_view_count": null,
            "flex_flow": null,
            "width": null,
            "min_width": null,
            "border": null,
            "align_items": null,
            "bottom": null,
            "_model_module": "@jupyter-widgets/base",
            "top": null,
            "grid_column": null,
            "overflow_y": null,
            "overflow_x": null,
            "grid_auto_flow": null,
            "grid_area": null,
            "grid_template_columns": null,
            "flex": null,
            "_model_name": "LayoutModel",
            "justify_items": null,
            "grid_row": null,
            "max_height": null,
            "align_content": null,
            "visibility": null,
            "align_self": null,
            "height": null,
            "min_height": null,
            "padding": null,
            "grid_auto_rows": null,
            "grid_gap": null,
            "max_width": null,
            "order": null,
            "_view_module_version": "1.2.0",
            "grid_template_areas": null,
            "object_position": null,
            "object_fit": null,
            "grid_auto_columns": null,
            "margin": null,
            "display": null,
            "left": null
          }
        },
        "cbcabd1ec5d94eaaa7038b78acb82333": {
          "model_module": "@jupyter-widgets/controls",
          "model_name": "HBoxModel",
          "state": {
            "_view_name": "HBoxView",
            "_dom_classes": [],
            "_model_name": "HBoxModel",
            "_view_module": "@jupyter-widgets/controls",
            "_model_module_version": "1.5.0",
            "_view_count": null,
            "_view_module_version": "1.5.0",
            "box_style": "",
            "layout": "IPY_MODEL_fd0298eced404c2f8255e9321c001c2f",
            "_model_module": "@jupyter-widgets/controls",
            "children": [
              "IPY_MODEL_f0a25741fb324ef3ad22bc2003b811d5",
              "IPY_MODEL_c822b61bc8a842488ca15e0111f60a78"
            ]
          }
        },
        "fd0298eced404c2f8255e9321c001c2f": {
          "model_module": "@jupyter-widgets/base",
          "model_name": "LayoutModel",
          "state": {
            "_view_name": "LayoutView",
            "grid_template_rows": null,
            "right": null,
            "justify_content": null,
            "_view_module": "@jupyter-widgets/base",
            "overflow": null,
            "_model_module_version": "1.2.0",
            "_view_count": null,
            "flex_flow": null,
            "width": null,
            "min_width": null,
            "border": null,
            "align_items": null,
            "bottom": null,
            "_model_module": "@jupyter-widgets/base",
            "top": null,
            "grid_column": null,
            "overflow_y": null,
            "overflow_x": null,
            "grid_auto_flow": null,
            "grid_area": null,
            "grid_template_columns": null,
            "flex": null,
            "_model_name": "LayoutModel",
            "justify_items": null,
            "grid_row": null,
            "max_height": null,
            "align_content": null,
            "visibility": null,
            "align_self": null,
            "height": null,
            "min_height": null,
            "padding": null,
            "grid_auto_rows": null,
            "grid_gap": null,
            "max_width": null,
            "order": null,
            "_view_module_version": "1.2.0",
            "grid_template_areas": null,
            "object_position": null,
            "object_fit": null,
            "grid_auto_columns": null,
            "margin": null,
            "display": null,
            "left": null
          }
        },
        "f0a25741fb324ef3ad22bc2003b811d5": {
          "model_module": "@jupyter-widgets/controls",
          "model_name": "FloatProgressModel",
          "state": {
            "_view_name": "ProgressView",
            "style": "IPY_MODEL_3333a8c84e254137869568abb80af967",
            "_dom_classes": [],
            "description": "",
            "_model_name": "FloatProgressModel",
            "bar_style": "success",
            "max": 1,
            "_view_module": "@jupyter-widgets/controls",
            "_model_module_version": "1.5.0",
            "value": 1,
            "_view_count": null,
            "_view_module_version": "1.5.0",
            "orientation": "horizontal",
            "min": 0,
            "description_tooltip": null,
            "_model_module": "@jupyter-widgets/controls",
            "layout": "IPY_MODEL_0062dbb076a14295bd7531174c2c8195"
          }
        },
        "c822b61bc8a842488ca15e0111f60a78": {
          "model_module": "@jupyter-widgets/controls",
          "model_name": "HTMLModel",
          "state": {
            "_view_name": "HTMLView",
            "style": "IPY_MODEL_8377748b26e64d90ba4d6b7f9fd8baff",
            "_dom_classes": [],
            "description": "",
            "_model_name": "HTMLModel",
            "placeholder": "​",
            "_view_module": "@jupyter-widgets/controls",
            "_model_module_version": "1.5.0",
            "value": " 8192/? [00:00&lt;00:00, 20172.38it/s]",
            "_view_count": null,
            "_view_module_version": "1.5.0",
            "description_tooltip": null,
            "_model_module": "@jupyter-widgets/controls",
            "layout": "IPY_MODEL_05ba9f9454124f47a3cd0b2c2ec243e7"
          }
        },
        "3333a8c84e254137869568abb80af967": {
          "model_module": "@jupyter-widgets/controls",
          "model_name": "ProgressStyleModel",
          "state": {
            "_view_name": "StyleView",
            "_model_name": "ProgressStyleModel",
            "description_width": "initial",
            "_view_module": "@jupyter-widgets/base",
            "_model_module_version": "1.5.0",
            "_view_count": null,
            "_view_module_version": "1.2.0",
            "bar_color": null,
            "_model_module": "@jupyter-widgets/controls"
          }
        },
        "0062dbb076a14295bd7531174c2c8195": {
          "model_module": "@jupyter-widgets/base",
          "model_name": "LayoutModel",
          "state": {
            "_view_name": "LayoutView",
            "grid_template_rows": null,
            "right": null,
            "justify_content": null,
            "_view_module": "@jupyter-widgets/base",
            "overflow": null,
            "_model_module_version": "1.2.0",
            "_view_count": null,
            "flex_flow": null,
            "width": null,
            "min_width": null,
            "border": null,
            "align_items": null,
            "bottom": null,
            "_model_module": "@jupyter-widgets/base",
            "top": null,
            "grid_column": null,
            "overflow_y": null,
            "overflow_x": null,
            "grid_auto_flow": null,
            "grid_area": null,
            "grid_template_columns": null,
            "flex": null,
            "_model_name": "LayoutModel",
            "justify_items": null,
            "grid_row": null,
            "max_height": null,
            "align_content": null,
            "visibility": null,
            "align_self": null,
            "height": null,
            "min_height": null,
            "padding": null,
            "grid_auto_rows": null,
            "grid_gap": null,
            "max_width": null,
            "order": null,
            "_view_module_version": "1.2.0",
            "grid_template_areas": null,
            "object_position": null,
            "object_fit": null,
            "grid_auto_columns": null,
            "margin": null,
            "display": null,
            "left": null
          }
        },
        "8377748b26e64d90ba4d6b7f9fd8baff": {
          "model_module": "@jupyter-widgets/controls",
          "model_name": "DescriptionStyleModel",
          "state": {
            "_view_name": "StyleView",
            "_model_name": "DescriptionStyleModel",
            "description_width": "",
            "_view_module": "@jupyter-widgets/base",
            "_model_module_version": "1.5.0",
            "_view_count": null,
            "_view_module_version": "1.2.0",
            "_model_module": "@jupyter-widgets/controls"
          }
        },
        "05ba9f9454124f47a3cd0b2c2ec243e7": {
          "model_module": "@jupyter-widgets/base",
          "model_name": "LayoutModel",
          "state": {
            "_view_name": "LayoutView",
            "grid_template_rows": null,
            "right": null,
            "justify_content": null,
            "_view_module": "@jupyter-widgets/base",
            "overflow": null,
            "_model_module_version": "1.2.0",
            "_view_count": null,
            "flex_flow": null,
            "width": null,
            "min_width": null,
            "border": null,
            "align_items": null,
            "bottom": null,
            "_model_module": "@jupyter-widgets/base",
            "top": null,
            "grid_column": null,
            "overflow_y": null,
            "overflow_x": null,
            "grid_auto_flow": null,
            "grid_area": null,
            "grid_template_columns": null,
            "flex": null,
            "_model_name": "LayoutModel",
            "justify_items": null,
            "grid_row": null,
            "max_height": null,
            "align_content": null,
            "visibility": null,
            "align_self": null,
            "height": null,
            "min_height": null,
            "padding": null,
            "grid_auto_rows": null,
            "grid_gap": null,
            "max_width": null,
            "order": null,
            "_view_module_version": "1.2.0",
            "grid_template_areas": null,
            "object_position": null,
            "object_fit": null,
            "grid_auto_columns": null,
            "margin": null,
            "display": null,
            "left": null
          }
        }
      }
    }
  },
  "cells": [
    {
      "cell_type": "markdown",
      "metadata": {
        "id": "view-in-github",
        "colab_type": "text"
      },
      "source": [
        "<a href=\"https://colab.research.google.com/github/mmedlin1997/cifar10/blob/master/cifar_10_torch.ipynb\" target=\"_parent\"><img src=\"https://colab.research.google.com/assets/colab-badge.svg\" alt=\"Open In Colab\"/></a>"
      ]
    },
    {
      "cell_type": "code",
      "metadata": {
        "id": "WOF9NZQihF2N",
        "colab_type": "code",
        "colab": {
          "base_uri": "https://localhost:8080/",
          "height": 161
        },
        "outputId": "4607d507-4c6c-4d2c-9ad3-a03d52d06990"
      },
      "source": [
        "# -*- coding: utf-8 -*-\n",
        "\"\"\"\n",
        "Created on Mon Sep 19, 2020\n",
        "\n",
        "@author: mark\n",
        "\n",
        "REF: https://www.youtube.com/watch?v=ixathu7U-LQ&t=17s\n",
        "REF: https://www.cs.toronto.edu/~kriz/cifar.html\n",
        "\"\"\"\n",
        "#%% Import\n",
        "import torch\n",
        "import torchvision\n",
        "from torchvision import datasets, transforms  # image data, transform to torch tensor format \n",
        "import matplotlib\n",
        "import matplotlib.pyplot as plt\n",
        "import seaborn as sns\n",
        "from timeit import default_timer as timer\n",
        "from datetime import timedelta\n",
        "\n",
        "from platform import python_version\n",
        "print(\"python\", python_version())\n",
        "print(\"torch\", torch.__version__)\n",
        "print(\"torchvision\", torchvision.__version__)\n",
        "print(\"matplotlib\", matplotlib.__version__)\n",
        "print(\"seaborn\", sns.__version__)"
      ],
      "execution_count": 3,
      "outputs": [
        {
          "output_type": "stream",
          "text": [
            "python 3.6.9\n",
            "torch 1.6.0+cu101\n",
            "torchvision 0.7.0+cu101\n",
            "matplotlib 3.2.2\n",
            "seaborn 0.10.1\n"
          ],
          "name": "stdout"
        },
        {
          "output_type": "stream",
          "text": [
            "/usr/local/lib/python3.6/dist-packages/statsmodels/tools/_testing.py:19: FutureWarning: pandas.util.testing is deprecated. Use the functions in the public API at pandas.testing instead.\n",
            "  import pandas.util.testing as tm\n"
          ],
          "name": "stderr"
        }
      ]
    },
    {
      "cell_type": "markdown",
      "metadata": {
        "id": "Z1E31oDRIcRu",
        "colab_type": "text"
      },
      "source": [
        "**torchvision.datasets** - common datasets (ex MNIST, COCO)\n",
        "\n",
        "**ToTensor()** - A torchvision transform. Converts PIL Image or numpy.ndarray to tensor. Specifically, converts RGB or UINT8 (HxWxC) in range [0, 255] to torch.FloatTensor of shape (CxHxW) in the range [0.0, 1.0].\n",
        "\n",
        "**Compose([])** - list of chained transforms"
      ]
    },
    {
      "cell_type": "code",
      "metadata": {
        "id": "G7ZgRNFhL9H-",
        "colab_type": "code",
        "colab": {
          "base_uri": "https://localhost:8080/",
          "height": 520,
          "referenced_widgets": [
            "3ffff199040b466f97501d31b0aa850d",
            "f5912c11ab0a4fa4a96d7e2bb0215ef2",
            "500c1a21c7ad4f8e90df8249a7a33ba3",
            "7578c64827ce4b5a8fae01afa5385ef9",
            "20d2b789fcd04a3b841c56daed0eab44",
            "499f596be3874cebb03eb71dbf570f2d",
            "63b593b683f34a378ada6a0ad78787e0",
            "e37218742d494d3782db4adf33464451",
            "e2e935ddd401482699717af90a58dee6",
            "7f4107a667424809adb1ab2022e4452f",
            "82214dedea4e4d5cb23c1a0455c61443",
            "a358c67779254285bd0b39813ead8cf0",
            "42d1bad8221b4ed6a39a6b69e3d14d62",
            "d5cb5b337c4d492aa19a2037abd22bfb",
            "85d973a9b14049d8bf629b7a1d0f8110",
            "86e014d779ab4fafa782032edfb3e83f",
            "5b9cb20fd8014ff2b567bc84d2d90b8c",
            "99e0ae9cab6c4c94838099ed95bc89b4",
            "eae77b8f5c6a4de28d93212bfcc0adaf",
            "90865d5a6338418280532e1ce87b65e0",
            "a57074e9124c4bb5a1ee3fbf94aeca11",
            "d886c25a897b4ff588f36e2a407365c3",
            "07942297b74243a6960dfd229b7399b4",
            "ba97e38ae2ff4eaab0f769508e791b8c",
            "cbcabd1ec5d94eaaa7038b78acb82333",
            "fd0298eced404c2f8255e9321c001c2f",
            "f0a25741fb324ef3ad22bc2003b811d5",
            "c822b61bc8a842488ca15e0111f60a78",
            "3333a8c84e254137869568abb80af967",
            "0062dbb076a14295bd7531174c2c8195",
            "8377748b26e64d90ba4d6b7f9fd8baff",
            "05ba9f9454124f47a3cd0b2c2ec243e7"
          ]
        },
        "outputId": "8a3288af-a7bf-4460-868a-a7e6e4b0bf88"
      },
      "source": [
        "train = datasets.MNIST('', train=True, download=True, \n",
        "                      transform=transforms.Compose([\n",
        "                          transforms.ToTensor()\n",
        "                      ]))\n",
        "test = datasets.MNIST('', train=False, download=True, \n",
        "                      transform=transforms.Compose([\n",
        "                          transforms.ToTensor()\n",
        "                      ]))\n",
        "print(train)"
      ],
      "execution_count": 4,
      "outputs": [
        {
          "output_type": "stream",
          "text": [
            "Downloading http://yann.lecun.com/exdb/mnist/train-images-idx3-ubyte.gz to MNIST/raw/train-images-idx3-ubyte.gz\n"
          ],
          "name": "stdout"
        },
        {
          "output_type": "display_data",
          "data": {
            "application/vnd.jupyter.widget-view+json": {
              "model_id": "3ffff199040b466f97501d31b0aa850d",
              "version_minor": 0,
              "version_major": 2
            },
            "text/plain": [
              "HBox(children=(FloatProgress(value=1.0, bar_style='info', max=1.0), HTML(value='')))"
            ]
          },
          "metadata": {
            "tags": []
          }
        },
        {
          "output_type": "stream",
          "text": [
            "Extracting MNIST/raw/train-images-idx3-ubyte.gz to MNIST/raw\n",
            "Downloading http://yann.lecun.com/exdb/mnist/train-labels-idx1-ubyte.gz to MNIST/raw/train-labels-idx1-ubyte.gz\n"
          ],
          "name": "stdout"
        },
        {
          "output_type": "display_data",
          "data": {
            "application/vnd.jupyter.widget-view+json": {
              "model_id": "e2e935ddd401482699717af90a58dee6",
              "version_minor": 0,
              "version_major": 2
            },
            "text/plain": [
              "HBox(children=(FloatProgress(value=1.0, bar_style='info', max=1.0), HTML(value='')))"
            ]
          },
          "metadata": {
            "tags": []
          }
        },
        {
          "output_type": "stream",
          "text": [
            "Extracting MNIST/raw/train-labels-idx1-ubyte.gz to MNIST/raw\n",
            "Downloading http://yann.lecun.com/exdb/mnist/t10k-images-idx3-ubyte.gz to MNIST/raw/t10k-images-idx3-ubyte.gz\n"
          ],
          "name": "stdout"
        },
        {
          "output_type": "display_data",
          "data": {
            "application/vnd.jupyter.widget-view+json": {
              "model_id": "5b9cb20fd8014ff2b567bc84d2d90b8c",
              "version_minor": 0,
              "version_major": 2
            },
            "text/plain": [
              "HBox(children=(FloatProgress(value=1.0, bar_style='info', max=1.0), HTML(value='')))"
            ]
          },
          "metadata": {
            "tags": []
          }
        },
        {
          "output_type": "stream",
          "text": [
            "Extracting MNIST/raw/t10k-images-idx3-ubyte.gz to MNIST/raw\n",
            "Downloading http://yann.lecun.com/exdb/mnist/t10k-labels-idx1-ubyte.gz to MNIST/raw/t10k-labels-idx1-ubyte.gz\n"
          ],
          "name": "stdout"
        },
        {
          "output_type": "display_data",
          "data": {
            "application/vnd.jupyter.widget-view+json": {
              "model_id": "cbcabd1ec5d94eaaa7038b78acb82333",
              "version_minor": 0,
              "version_major": 2
            },
            "text/plain": [
              "HBox(children=(FloatProgress(value=1.0, bar_style='info', max=1.0), HTML(value='')))"
            ]
          },
          "metadata": {
            "tags": []
          }
        },
        {
          "output_type": "stream",
          "text": [
            "Extracting MNIST/raw/t10k-labels-idx1-ubyte.gz to MNIST/raw\n",
            "Processing...\n",
            "Done!\n",
            "Dataset MNIST\n",
            "    Number of datapoints: 60000\n",
            "    Root location: \n",
            "    Split: Train\n",
            "    StandardTransform\n",
            "Transform: Compose(\n",
            "               ToTensor()\n",
            "           )\n"
          ],
          "name": "stdout"
        },
        {
          "output_type": "stream",
          "text": [
            "/usr/local/lib/python3.6/dist-packages/torchvision/datasets/mnist.py:469: UserWarning: The given NumPy array is not writeable, and PyTorch does not support non-writeable tensors. This means you can write to the underlying (supposedly non-writeable) NumPy array using the tensor. You may want to copy the array to protect its data or make it writeable before converting it to a tensor. This type of warning will be suppressed for the rest of this program. (Triggered internally at  /pytorch/torch/csrc/utils/tensor_numpy.cpp:141.)\n",
            "  return torch.from_numpy(parsed.astype(m[2], copy=False)).view(*s)\n"
          ],
          "name": "stderr"
        }
      ]
    },
    {
      "cell_type": "markdown",
      "metadata": {
        "id": "8LRYJ88HMAMb",
        "colab_type": "text"
      },
      "source": [
        "**torch.utils.data.DataLoader(dataset, batch_size (int, opt), shuffle (bool, opt))** - returns iterable over dataset. Can set batch size every epoch, and whether to shuffle every epoch. "
      ]
    },
    {
      "cell_type": "code",
      "metadata": {
        "id": "pS-vbm2difis",
        "colab_type": "code",
        "colab": {}
      },
      "source": [
        "train_loader = torch.utils.data.DataLoader(train, batch_size=10, shuffle=True)\n",
        "test_loader = torch.utils.data.DataLoader(test, batch_size=10, shuffle=False)"
      ],
      "execution_count": 5,
      "outputs": []
    },
    {
      "cell_type": "code",
      "metadata": {
        "id": "yzGDCIqJW2IM",
        "colab_type": "code",
        "colab": {
          "base_uri": "https://localhost:8080/",
          "height": 123
        },
        "outputId": "984252d6-d00d-4ddc-aa69-bbea6c56d76a"
      },
      "source": [
        "train_iter = iter(train_loader)                      # make iterable out of loader object\n",
        "\n",
        "# verify dimensions of first batch (ex1: using iterable)\n",
        "train_images, train_labels = train_iter.next()       # get next iteration\n",
        "print(\"Image batch dimensions:\", train_images.shape) # tensor size [batch_size, 1, h, w]\n",
        "print(\"Image label dimensions:\", train_labels.shape)\n",
        "\n",
        "# verify dimensions of first batch (ex2: using loader in loop)\n",
        "for train_images, train_labels in train_loader:\n",
        "    print(\"Image batch dimensions:\", train_images.shape)\n",
        "    print(\"Image label dimensions:\", train_labels.shape)\n",
        "    break"
      ],
      "execution_count": 6,
      "outputs": [
        {
          "output_type": "stream",
          "text": [
            "\n",
            "\n",
            "Image batch dimensions: torch.Size([10, 1, 28, 28])\n",
            "Image label dimensions: torch.Size([10])\n",
            "Image batch dimensions: torch.Size([10, 1, 28, 28])\n",
            "Image label dimensions: torch.Size([10])\n"
          ],
          "name": "stdout"
        }
      ]
    },
    {
      "cell_type": "code",
      "metadata": {
        "id": "6cKCEqRYkDY-",
        "colab_type": "code",
        "colab": {
          "base_uri": "https://localhost:8080/",
          "height": 314
        },
        "outputId": "ef6db48f-7b6f-4cf9-c958-d9676a0e847a"
      },
      "source": [
        "# show one image\n",
        "index = 0\n",
        "plt.imshow(train_images[index].view(28,28))\n",
        "plt.xlabel(train_labels[index].item()) # labels are tensors, get value with item()\n",
        "plt.show()"
      ],
      "execution_count": 7,
      "outputs": [
        {
          "output_type": "display_data",
          "data": {
            "image/png": "[encoded data removed]",
            "text/plain": [
              "<Figure size 432x288 with 1 Axes>"
            ]
          },
          "metadata": {
            "tags": [],
            "needs_background": "light"
          }
        },
        {
          "output_type": "stream",
          "text": [
            "\n",
            "\n"
          ],
          "name": "stdout"
        }
      ]
    },
    {
      "cell_type": "code",
      "metadata": {
        "id": "3YHZJHC_Yg3Q",
        "colab_type": "code",
        "colab": {
          "base_uri": "https://localhost:8080/",
          "height": 182
        },
        "outputId": "796c3b48-4c7a-4929-eb4d-39c3a69f287b"
      },
      "source": [
        "\n",
        "\n",
        "#%% Preview dataset\n",
        "plt.figure(figsize=(5,3))\n",
        "for i in range(10):\n",
        "    plt.subplot(2,5,i+1)\n",
        "    plt.xticks([])\n",
        "    plt.yticks([])\n",
        "    plt.grid(False)\n",
        "    plt.imshow(train_images[i].view(28,28), cmap=plt.cm.binary) # reshape tensor(1,28,28) to matplotlib shape(28,28) \n",
        "    plt.xlabel(train_labels[i].item()) # labels are tensors, get value with item()\n",
        "plt.show()"
      ],
      "execution_count": 8,
      "outputs": [
        {
          "output_type": "display_data",
          "data": {
            "image/png": "[encoded data removed]",
            "text/plain": [
              "<Figure size 360x216 with 10 Axes>"
            ]
          },
          "metadata": {
            "tags": []
          }
        }
      ]
    },
    {
      "cell_type": "markdown",
      "metadata": {
        "id": "vM-JMBxShTBX",
        "colab_type": "text"
      },
      "source": [
        "Create a class to define the NN model.\n"
      ]
    },
    {
      "cell_type": "code",
      "metadata": {
        "id": "ronUpSEchEIo",
        "colab_type": "code",
        "colab": {
          "base_uri": "https://localhost:8080/",
          "height": 52
        },
        "outputId": "5d93f887-cb21-4692-94a4-c74642717b0f"
      },
      "source": [
        "import torch.nn as nn\n",
        "import torch.nn.functional as F\n",
        "\n",
        "class Model(nn.Module):\n",
        "  def __init__(self):\n",
        "    super(Model, self).__init__()\n",
        "    # Define layers\n",
        "    self.fc1 = nn.Linear(28*28, 64) # Linear - fully-connected layer (input, output). This layer is input, designed to take a single image.\n",
        "    self.fc2 = nn.Linear(64, 64)\n",
        "    self.fc3 = nn.Linear(64, 64)\n",
        "    self.fc4 = nn.Linear(64, 10)\n",
        "\n",
        "  # Define how data flows forward through nn, and activations\n",
        "  def forward(self, x):\n",
        "    x = F.relu(self.fc1(x))\n",
        "    x = F.relu(self.fc2(x))\n",
        "    x = F.relu(self.fc3(x))\n",
        "    logits = self.fc4(x)\n",
        "    out = F.log_softmax(logits, dim=1)\n",
        "    return out\n",
        "\n",
        "model = Model()\n",
        "\n",
        "# verify model with single random image\n",
        "X = torch.randn((28,28))\n",
        "X = X.view(-1, 28*28)\n",
        "out = model(X)\n",
        "out"
      ],
      "execution_count": 9,
      "outputs": [
        {
          "output_type": "execute_result",
          "data": {
            "text/plain": [
              "tensor([[-2.2861, -2.3291, -2.1982, -2.2623, -2.3635, -2.3818, -2.4479, -2.3269,\n",
              "         -2.1945, -2.2645]], grad_fn=<LogSoftmaxBackward>)"
            ]
          },
          "metadata": {
            "tags": []
          },
          "execution_count": 9
        }
      ]
    },
    {
      "cell_type": "markdown",
      "metadata": {
        "id": "vWz-_na5Az_v",
        "colab_type": "text"
      },
      "source": [
        "Train model"
      ]
    },
    {
      "cell_type": "code",
      "metadata": {
        "id": "GB0SG5M5w9eg",
        "colab_type": "code",
        "colab": {
          "base_uri": "https://localhost:8080/",
          "height": 107
        },
        "outputId": "d8301623-84d9-4155-cabc-ff4c0f645434"
      },
      "source": [
        "import torch.optim as optim\n",
        "\n",
        "# optimizer_name(specify unfrozen weights, learning rate)\n",
        "optimizer = optim.Adam(model.parameters(), lr=0.001)\n",
        "\n",
        "epochs = 3\n",
        "losses, times = [], []\n",
        "for epoch in range(epochs):\n",
        "  start = timer() \n",
        "  for train_images, train_labels in train_loader:   # data is a batch of images and labels           \n",
        "    model.zero_grad()                               # reset gradients instead summing of every backpropagation\n",
        "    output = model(train_images.view(-1, 28*28))    # pass (batch) images thru model\n",
        "    loss = F.nll_loss(output, train_labels)         # loss function\n",
        "    loss.backward()                                 # backpropagate\n",
        "    optimizer.step()                                # optimizer step toward global minimum\n",
        "  end = timer()\n",
        "  time = timedelta(seconds=end-start)\n",
        "  losses.append(loss)\n",
        "  times.append(time)\n",
        "  print('epoch:', epoch, 'loss:', loss.item(), 'time:', time)\n",
        "print(losses, times)"
      ],
      "execution_count": 50,
      "outputs": [
        {
          "output_type": "stream",
          "text": [
            "epoch: 0 loss: 0.00014137559628579766 time: 0:00:17.268437\n",
            "epoch: 1 loss: 9.119268725044094e-06 time: 0:00:17.490360\n",
            "epoch: 2 loss: 7.195359648903832e-05 time: 0:00:17.672330\n",
            "[tensor(0.0001, grad_fn=<NllLossBackward>), tensor(9.1193e-06, grad_fn=<NllLossBackward>), tensor(7.1954e-05, grad_fn=<NllLossBackward>)] [datetime.timedelta(0, 17, 268437), datetime.timedelta(0, 17, 490360), datetime.timedelta(0, 17, 672330)]\n"
          ],
          "name": "stdout"
        }
      ]
    },
    {
      "cell_type": "markdown",
      "metadata": {
        "id": "7Zih3K99E_nF",
        "colab_type": "text"
      },
      "source": [
        "Test model"
      ]
    },
    {
      "cell_type": "code",
      "metadata": {
        "id": "p5JT-hauFBwB",
        "colab_type": "code",
        "colab": {
          "base_uri": "https://localhost:8080/",
          "height": 34
        },
        "outputId": "5fd13d67-49df-423f-8742-993e32682254"
      },
      "source": [
        "correct, total = 0, 0\n",
        "\n",
        "with torch.no_grad():      # do not allocate memory for gradient calculations on model \n",
        "    for data in test_loader:\n",
        "        test_images, test_labels = data\n",
        "        output = model(test_images.view(-1,784))\n",
        "        #print(output)\n",
        "        for idx, i in enumerate(output):\n",
        "            #print(idx, i, torch.argmax(i), y[idx])\n",
        "            if torch.argmax(i) == test_labels[idx]:\n",
        "                correct += 1\n",
        "            total += 1\n",
        "\n",
        "print(\"Accuracy: \", round(correct/total, 3))"
      ],
      "execution_count": 25,
      "outputs": [
        {
          "output_type": "stream",
          "text": [
            "Accuracy:  0.968\n"
          ],
          "name": "stdout"
        }
      ]
    },
    {
      "cell_type": "markdown",
      "metadata": {
        "id": "Akwwjfi2VX_S",
        "colab_type": "text"
      },
      "source": [
        "Save model as PyTorch"
      ]
    },
    {
      "cell_type": "code",
      "metadata": {
        "id": "xbXRP3L7Vawb",
        "colab_type": "code",
        "colab": {}
      },
      "source": [
        "checkpoint = {'model_state_dict': model.state_dict(),\n",
        "              'optimizer_state_dict': optimizer.state_dict()}\n",
        "\n",
        "torch.save(checkpoint, 'checkpoint.pth')"
      ],
      "execution_count": 61,
      "outputs": []
    },
    {
      "cell_type": "markdown",
      "metadata": {
        "id": "3dsvarJJZy7r",
        "colab_type": "text"
      },
      "source": [
        "Load model as PyTorch"
      ]
    },
    {
      "cell_type": "code",
      "metadata": {
        "id": "FYQLOkDtV7zy",
        "colab_type": "code",
        "colab": {
          "base_uri": "https://localhost:8080/",
          "height": 70
        },
        "outputId": "bc2a1659-51e2-48e7-b797-d126ea5bcfaf"
      },
      "source": [
        "checkpoint = torch.load('checkpoint.pth')\n",
        "model.load_state_dict(checkpoint['model_state_dict'])\n",
        "optimizer.load_state_dict(checkpoint['optimizer_state_dict'])\n",
        "print(checkpoint.keys())\n",
        "print(checkpoint['model_state_dict'].keys())\n",
        "print(checkpoint['optimizer_state_dict'].keys())"
      ],
      "execution_count": 64,
      "outputs": [
        {
          "output_type": "stream",
          "text": [
            "dict_keys(['model_state_dict', 'optimizer_state_dict'])\n",
            "odict_keys(['fc1.weight', 'fc1.bias', 'fc2.weight', 'fc2.bias', 'fc3.weight', 'fc3.bias', 'fc4.weight', 'fc4.bias'])\n",
            "dict_keys(['state', 'param_groups'])\n"
          ],
          "name": "stdout"
        }
      ]
    },
    {
      "cell_type": "markdown",
      "metadata": {
        "id": "Nvs74oLMGbjJ",
        "colab_type": "text"
      },
      "source": [
        "Results"
      ]
    },
    {
      "cell_type": "code",
      "metadata": {
        "id": "-yC7pmjtQpT3",
        "colab_type": "code",
        "colab": {
          "base_uri": "https://localhost:8080/",
          "height": 278
        },
        "outputId": "5592299c-1acc-4b2b-e3c7-ad02d94e0164"
      },
      "source": [
        "# Inspect one result\n",
        "index = 5\n",
        "expected = test_labels[index].item()\n",
        "inferred = torch.argmax(model(test_images[index].view(-1,784))[0]).item()\n",
        "plt.imshow(test_images[index].view(28,28))\n",
        "plt.xlabel(inferred)\n",
        "plt.show()"
      ],
      "execution_count": 65,
      "outputs": [
        {
          "output_type": "display_data",
          "data": {
            "image/png": "[encoded data removed]",
            "text/plain": [
              "<Figure size 432x288 with 1 Axes>"
            ]
          },
          "metadata": {
            "tags": [],
            "needs_background": "light"
          }
        }
      ]
    },
    {
      "cell_type": "code",
      "metadata": {
        "id": "LUVy_cxJGcXM",
        "colab_type": "code",
        "colab": {
          "base_uri": "https://localhost:8080/",
          "height": 363
        },
        "outputId": "8574072b-26a0-485d-e9a7-1f4df6be733b"
      },
      "source": [
        "# Inspect batch\n",
        "batch_size = 100\n",
        "test_loader = torch.utils.data.DataLoader(test, batch_size=batch_size, shuffle=False)\n",
        "plt.figure(figsize=(10,6))\n",
        "for test_images, test_labels in test_loader:\n",
        "  output = model(test_images.view(-1,784))  \n",
        "  for i, img in enumerate(output):\n",
        "    expected = test_labels[i]\n",
        "    inferred = torch.argmax(model(test_images[i].view(-1,784))[0])\n",
        "    cmap = plt.cm.binary if expected == inferred else plt.cm.autumn\n",
        "    plt.subplot(batch_size/20, 20, i+1)\n",
        "    plt.xticks([])\n",
        "    plt.yticks([])\n",
        "    plt.grid(False)\n",
        "    plt.imshow(test_images[i].view(28,28), cmap=cmap) \n",
        "    plt.xlabel(expected.item())\n",
        "    plt.suptitle('Batch of ' + str(batch_size), fontsize=16, y=.9)\n",
        "  break\n",
        "plt.show()"
      ],
      "execution_count": 66,
      "outputs": [
        {
          "output_type": "display_data",
          "data": {
            "image/png": "[encoded data removed]",
            "text/plain": [
              "<Figure size 720x432 with 100 Axes>"
            ]
          },
          "metadata": {
            "tags": []
          }
        }
      ]
    },
    {
      "cell_type": "code",
      "metadata": {
        "id": "f5zNnQMI5MMv",
        "colab_type": "code",
        "colab": {
          "base_uri": "https://localhost:8080/",
          "height": 457
        },
        "outputId": "e2a0795a-ca74-49a3-f22c-385400fee068"
      },
      "source": [
        "#%% Confusion Matrix\n",
        "# Inspect batch\n",
        "batch_size = 100\n",
        "test_loader = torch.utils.data.DataLoader(test, batch_size=batch_size, shuffle=False)\n",
        "\n",
        "num_classes = 10\n",
        "class_names = [i for i in range(10)]\n",
        "cf_matrix = torch.zeros((num_classes, num_classes), dtype=torch.uint8)\n",
        "\n",
        "for test_images, test_labels in test_loader:\n",
        "  output = model(test_images.view(-1,784))  \n",
        "  for i, img in enumerate(output):\n",
        "    expected = test_labels[i]\n",
        "    inferred = torch.argmax(model(test_images[i].view(-1,784))[0])\n",
        "    cf_matrix[expected][inferred] += 1\n",
        "\n",
        "plt.figure(figsize=(10,6))\n",
        "ax = sns.heatmap(cf_matrix, annot=True, \n",
        "                 yticklabels=class_names, xticklabels=class_names, fmt='', \n",
        "                 linewidths=1, linecolor='k', cmap='Blues')\n",
        "ax.set(title=\"Confusion Matrix Heatmap\", xlabel=\"Predicted\", ylabel=\"Actual\",)\n",
        "\n",
        "print('Total test digits:', cf_matrix.sum().item())\n",
        "print('Predicted distribution:', cf_matrix.sum(0))\n",
        "print('Actual distribution:', cf_matrix.sum(1))"
      ],
      "execution_count": 47,
      "outputs": [
        {
          "output_type": "stream",
          "text": [
            "Total test digits: 2064\n",
            "Predicted distribution: tensor([257, 110, 253, 253, 209, 145, 200, 246, 158, 233])\n",
            "Actual distribution: tensor([212, 111, 264, 242, 214, 124, 190, 260, 206, 241])\n"
          ],
          "name": "stdout"
        },
        {
          "output_type": "display_data",
          "data": {
            "image/png": "[encoded data removed]",
            "text/plain": [
              "<Figure size 720x432 with 2 Axes>"
            ]
          },
          "metadata": {
            "tags": [],
            "needs_background": "light"
          }
        }
      ]
    },
    {
      "cell_type": "code",
      "metadata": {
        "id": "ptxeXPvoam-N",
        "colab_type": "code",
        "colab": {
          "base_uri": "https://localhost:8080/",
          "height": 567
        },
        "outputId": "65e775ee-a1d5-4142-c5f7-2c2796d77e7b"
      },
      "source": [
        "model = Model()\n",
        "\n",
        "for train_images, train_labels in train_loader:\n",
        "  print(\"batch size:\", train_images.shape)\n",
        "  for image in train_images:\n",
        "    print(\"image size:\", image.shape)\n",
        "    image = image.view(image.shape[0], -1) # flatten\n",
        "    print(\"image size:\", image.shape)\n",
        "    out = model(image)\n",
        "    print(out.shape)\n",
        "  break"
      ],
      "execution_count": 63,
      "outputs": [
        {
          "output_type": "stream",
          "text": [
            "batch size: torch.Size([10, 1, 28, 28])\n",
            "image size: torch.Size([1, 28, 28])\n",
            "image size: torch.Size([1, 784])\n",
            "torch.Size([1, 10])\n",
            "image size: torch.Size([1, 28, 28])\n",
            "image size: torch.Size([1, 784])\n",
            "torch.Size([1, 10])\n",
            "image size: torch.Size([1, 28, 28])\n",
            "image size: torch.Size([1, 784])\n",
            "torch.Size([1, 10])\n",
            "image size: torch.Size([1, 28, 28])\n",
            "image size: torch.Size([1, 784])\n",
            "torch.Size([1, 10])\n",
            "image size: torch.Size([1, 28, 28])\n",
            "image size: torch.Size([1, 784])\n",
            "torch.Size([1, 10])\n",
            "image size: torch.Size([1, 28, 28])\n",
            "image size: torch.Size([1, 784])\n",
            "torch.Size([1, 10])\n",
            "image size: torch.Size([1, 28, 28])\n",
            "image size: torch.Size([1, 784])\n",
            "torch.Size([1, 10])\n",
            "image size: torch.Size([1, 28, 28])\n",
            "image size: torch.Size([1, 784])\n",
            "torch.Size([1, 10])\n",
            "image size: torch.Size([1, 28, 28])\n",
            "image size: torch.Size([1, 784])\n",
            "torch.Size([1, 10])\n",
            "image size: torch.Size([1, 28, 28])\n",
            "image size: torch.Size([1, 784])\n",
            "torch.Size([1, 10])\n"
          ],
          "name": "stdout"
        }
      ]
    },
    {
      "cell_type": "markdown",
      "metadata": {
        "id": "kbC-1ZawIah7",
        "colab_type": "text"
      },
      "source": [
        "Torch tutorial"
      ]
    },
    {
      "cell_type": "code",
      "metadata": {
        "id": "zQ0P_OYXl8MS",
        "colab_type": "code",
        "colab": {
          "base_uri": "https://localhost:8080/",
          "height": 390
        },
        "outputId": "f0564d0b-7278-483c-bd98-a5eef8fe886a"
      },
      "source": [
        "x = torch.rand((4,5))\n",
        "x = torch.randn((4,5))\n",
        "x = torch.zeros((4,5))\n",
        "x = torch.ones((2,4,5))\n",
        "print(x)\n",
        "print(x.size())\n",
        "print(x.dtype)\n",
        "print(x.shape)\n",
        "print(x.shape[0])\n",
        "x = torch.Tensor([[1,2],[3,4]])\n",
        "print(x)\n",
        "y = x.clone()\n",
        "print(x*y)\n",
        "y=y.view(4,1)\n",
        "print(y/y)"
      ],
      "execution_count": 14,
      "outputs": [
        {
          "output_type": "stream",
          "text": [
            "tensor([[[1., 1., 1., 1., 1.],\n",
            "         [1., 1., 1., 1., 1.],\n",
            "         [1., 1., 1., 1., 1.],\n",
            "         [1., 1., 1., 1., 1.]],\n",
            "\n",
            "        [[1., 1., 1., 1., 1.],\n",
            "         [1., 1., 1., 1., 1.],\n",
            "         [1., 1., 1., 1., 1.],\n",
            "         [1., 1., 1., 1., 1.]]])\n",
            "torch.Size([2, 4, 5])\n",
            "torch.float32\n",
            "torch.Size([2, 4, 5])\n",
            "2\n",
            "tensor([[1., 2.],\n",
            "        [3., 4.]])\n",
            "tensor([[ 1.,  4.],\n",
            "        [ 9., 16.]])\n",
            "tensor([[1.],\n",
            "        [1.],\n",
            "        [1.],\n",
            "        [1.]])\n"
          ],
          "name": "stdout"
        }
      ]
    },
    {
      "cell_type": "code",
      "metadata": {
        "id": "nINB0Ju8TrX7",
        "colab_type": "code",
        "colab": {
          "base_uri": "https://localhost:8080/",
          "height": 283
        },
        "outputId": "972f04ec-2800-42b0-af35-f7093fd27006"
      },
      "source": [
        "a = torch.rand((2,5)) * 10\n",
        "print(a)\n",
        "b = a.view(-1,2)\n",
        "print(b)\n",
        "b = a.transpose(0,1)\n",
        "print(b)\n",
        "c = a.unsqueeze(1)\n",
        "print(c, c.shape)"
      ],
      "execution_count": 15,
      "outputs": [
        {
          "output_type": "stream",
          "text": [
            "tensor([[4.8818, 4.2736, 9.5697, 7.9988, 9.6750],\n",
            "        [7.1080, 0.9800, 3.9901, 6.5185, 3.2446]])\n",
            "tensor([[4.8818, 4.2736],\n",
            "        [9.5697, 7.9988],\n",
            "        [9.6750, 7.1080],\n",
            "        [0.9800, 3.9901],\n",
            "        [6.5185, 3.2446]])\n",
            "tensor([[4.8818, 7.1080],\n",
            "        [4.2736, 0.9800],\n",
            "        [9.5697, 3.9901],\n",
            "        [7.9988, 6.5185],\n",
            "        [9.6750, 3.2446]])\n",
            "tensor([[[4.8818, 4.2736, 9.5697, 7.9988, 9.6750]],\n",
            "\n",
            "        [[7.1080, 0.9800, 3.9901, 6.5185, 3.2446]]]) torch.Size([2, 1, 5])\n"
          ],
          "name": "stdout"
        }
      ]
    }
  ]
}